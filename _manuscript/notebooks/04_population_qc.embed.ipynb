{
 "cells": [
  {
   "cell_type": "markdown",
   "metadata": {},
   "source": [
    "#"
   ],
   "id": "39d00358-5fcc-4d98-a075-5be18cb34a0c"
  },
  {
   "cell_type": "code",
   "execution_count": null,
   "metadata": {},
   "outputs": [
    {
     "output_type": "stream",
     "name": "stderr",
     "text": [
      "Warning: package 'styler' was built under R version 4.4.3"
     ]
    },
    {
     "output_type": "stream",
     "name": "stderr",
     "text": [
      "Warning: package 'rnaturalearth' was built under R version 4.4.3"
     ]
    },
    {
     "output_type": "stream",
     "name": "stderr",
     "text": [
      "Warning: package 'tidyverse' was built under R version 4.4.3"
     ]
    },
    {
     "output_type": "stream",
     "name": "stderr",
     "text": [
      "Warning: package 'ggplot2' was built under R version 4.4.3"
     ]
    },
    {
     "output_type": "stream",
     "name": "stderr",
     "text": [
      "Warning: package 'tibble' was built under R version 4.4.3"
     ]
    },
    {
     "output_type": "stream",
     "name": "stderr",
     "text": [
      "Warning: package 'tidyr' was built under R version 4.4.3"
     ]
    },
    {
     "output_type": "stream",
     "name": "stderr",
     "text": [
      "Warning: package 'dplyr' was built under R version 4.4.3"
     ]
    },
    {
     "output_type": "stream",
     "name": "stderr",
     "text": [
      "Warning: package 'stringr' was built under R version 4.4.3"
     ]
    },
    {
     "output_type": "stream",
     "name": "stderr",
     "text": [
      "Warning: package 'forcats' was built under R version 4.4.3"
     ]
    },
    {
     "output_type": "stream",
     "name": "stderr",
     "text": [
      "Warning: package 'lubridate' was built under R version 4.4.3"
     ]
    },
    {
     "output_type": "stream",
     "name": "stderr",
     "text": [
      "Warning: package 'sf' was built under R version 4.4.3"
     ]
    },
    {
     "output_type": "stream",
     "name": "stderr",
     "text": [
      "Warning: package 'viridis' was built under R version 4.4.3"
     ]
    },
    {
     "output_type": "stream",
     "name": "stderr",
     "text": [
      "Warning: package 'viridisLite' was built under R version 4.4.3"
     ]
    },
    {
     "output_type": "stream",
     "name": "stderr",
     "text": [
      "Warning: package 'broom' was built under R version 4.4.3"
     ]
    },
    {
     "output_type": "stream",
     "name": "stderr",
     "text": [
      "Warning: package 'boot' was built under R version 4.4.3"
     ]
    },
    {
     "output_type": "stream",
     "name": "stderr",
     "text": [
      "Warning: package 'ggrepel' was built under R version 4.4.3"
     ]
    },
    {
     "output_type": "stream",
     "name": "stderr",
     "text": [
      "Warning: package 'kableExtra' was built under R version 4.4.3"
     ]
    },
    {
     "output_type": "stream",
     "name": "stderr",
     "text": [
      "Warning: package 'scales' was built under R version 4.4.3"
     ]
    },
    {
     "output_type": "stream",
     "name": "stderr",
     "text": [
      "Warning: package 'here' was built under R version 4.4.3"
     ]
    },
    {
     "output_type": "stream",
     "name": "stderr",
     "text": [
      "Warning: package 'countrycode' was built under R version 4.4.3"
     ]
    },
    {
     "output_type": "stream",
     "name": "stderr",
     "text": [
      "Warning: package 'data.table' was built under R version 4.4.3"
     ]
    },
    {
     "output_type": "stream",
     "name": "stderr",
     "text": [
      "Warning: There were 2 warnings in `mutate()`.\n",
      "The first warning was:\n",
      "ℹ In argument: `iso3 = countrycode(...)`.\n",
      "Caused by warning:\n",
      "! Some values were not matched unambiguously: Africa, Americas, Asia, Australia/New Zealand, Caribbean, Central America, Central and Southern Asia, Central Asia, Eastern Africa, Eastern and South-Eastern Asia, Eastern Asia, Eastern Europe, Europe, Europe and Northern America, Europe, Northern America, Australia, and New Zealand, High-and-upper-middle-income countries, High-income countries, Kosovo (under UNSC res. 1244), Land-locked Developing Countries (LLDC), Latin America and the Caribbean, Least developed countries, Less developed regions, Less developed regions, excluding least developed countries, LLDC: Africa, LLDC: Asia, LLDC: Europe, LLDC: Latin America, Low-and-Lower-middle-income countries, Low-and-middle-income countries, Low-income countries, Lower-middle-income countries, Melanesia, Micronesia, Middle-income countries, Middle Africa, More developed regions, No income group available, Northern Africa, Northern Africa and Western Asia, Northern America, Northern Europe, Oceania, Oceania (excluding Australia and New Zealand), Polynesia, SIDS Caribbean, SIDS Pacific, Small Island Developing States (SIDS), South-Eastern Asia, South America, Southern Africa, Southern Asia, Southern Europe, Sub-Saharan Africa, Upper-middle-income countries, Western Africa, Western Asia, Western Europe, World\n",
      "ℹ Run `dplyr::last_dplyr_warnings()` to see the 1 remaining warning."
     ]
    },
    {
     "output_type": "stream",
     "name": "stderr",
     "text": [
      "Warning: Gap >10 % for: CYP, UKR, MKD"
     ]
    }
   ],
   "source": [
    "# 04_population_qc.R\n",
    "source(here::here(\"R/00_load_libs.R\"))"
   ],
   "id": "9c5bd558-f682-4f06-b3aa-74eef16ec60c"
  },
  {
   "cell_type": "markdown",
   "metadata": {},
   "source": [
    "# Take away message\n",
    "\n",
    "OWID’s 2022 population snapshot (UN WPP 2024 medium-variant, but restated to 31 Dec 2022) was compared with the official mid-2020 UN release (31 Dec 2019 in `wpp2024`).\n",
    "\n",
    "-   37 of 41 Eurcontrol coutnries differ by \\< 5 % (median 2 %)\n",
    "-   Larger gaps for Cyprus (‑31 %), Ukraine (‑11 %) and North Macedonia (+11 %) stem from boundary updates or new censuses incorporated by OWID.\n",
    "\n",
    "Re-running all correlations with raw WPP figures shifts Spearman ρ by \\< 0.01, so the OWID populations were retained for consistency with the excess-mortality denominator.\n",
    "\n",
    "-   Population denominator. OWID’s population series is sourced from UN WPP: https://github.com/owid/covid-19-data/blob/master/scripts/input/un/population_latest.csv\n",
    "-   wpp2024 packages states: https://github.com/PPgp/wpp2024"
   ],
   "id": "bdd98c68-9a72-4c65-a79a-bcfe45a983d5"
  }
 ],
 "nbformat": 4,
 "nbformat_minor": 5,
 "metadata": {}
}
