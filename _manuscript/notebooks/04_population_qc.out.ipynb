{
 "cells": [
  {
   "cell_type": "markdown",
   "metadata": {},
   "source": [
    "#"
   ],
   "id": "921c8ccb-d986-41bd-a8bb-1b354f3e6a2c"
  },
  {
   "cell_type": "code",
   "execution_count": null,
   "metadata": {},
   "outputs": [
    {
     "output_type": "stream",
     "name": "stderr",
     "text": [
      "Warning: package 'styler' was built under R version 4.4.3"
     ]
    },
    {
     "output_type": "stream",
     "name": "stderr",
     "text": [
      "Warning: package 'rnaturalearth' was built under R version 4.4.3"
     ]
    },
    {
     "output_type": "stream",
     "name": "stderr",
     "text": [
      "Warning: package 'tidyverse' was built under R version 4.4.3"
     ]
    },
    {
     "output_type": "stream",
     "name": "stderr",
     "text": [
      "Warning: package 'ggplot2' was built under R version 4.4.3"
     ]
    },
    {
     "output_type": "stream",
     "name": "stderr",
     "text": [
      "Warning: package 'tibble' was built under R version 4.4.3"
     ]
    },
    {
     "output_type": "stream",
     "name": "stderr",
     "text": [
      "Warning: package 'tidyr' was built under R version 4.4.3"
     ]
    },
    {
     "output_type": "stream",
     "name": "stderr",
     "text": [
      "Warning: package 'dplyr' was built under R version 4.4.3"
     ]
    },
    {
     "output_type": "stream",
     "name": "stderr",
     "text": [
      "Warning: package 'stringr' was built under R version 4.4.3"
     ]
    },
    {
     "output_type": "stream",
     "name": "stderr",
     "text": [
      "Warning: package 'forcats' was built under R version 4.4.3"
     ]
    },
    {
     "output_type": "stream",
     "name": "stderr",
     "text": [
      "Warning: package 'lubridate' was built under R version 4.4.3"
     ]
    },
    {
     "output_type": "stream",
     "name": "stderr",
     "text": [
      "Warning: package 'sf' was built under R version 4.4.3"
     ]
    },
    {
     "output_type": "stream",
     "name": "stderr",
     "text": [
      "Warning: package 'viridis' was built under R version 4.4.3"
     ]
    },
    {
     "output_type": "stream",
     "name": "stderr",
     "text": [
      "Warning: package 'viridisLite' was built under R version 4.4.3"
     ]
    },
    {
     "output_type": "stream",
     "name": "stderr",
     "text": [
      "Warning: package 'broom' was built under R version 4.4.3"
     ]
    },
    {
     "output_type": "stream",
     "name": "stderr",
     "text": [
      "Warning: package 'boot' was built under R version 4.4.3"
     ]
    },
    {
     "output_type": "stream",
     "name": "stderr",
     "text": [
      "Warning: package 'ggrepel' was built under R version 4.4.3"
     ]
    },
    {
     "output_type": "stream",
     "name": "stderr",
     "text": [
      "Warning: package 'kableExtra' was built under R version 4.4.3"
     ]
    },
    {
     "output_type": "stream",
     "name": "stderr",
     "text": [
      "Warning: package 'scales' was built under R version 4.4.3"
     ]
    },
    {
     "output_type": "stream",
     "name": "stderr",
     "text": [
      "Warning: package 'here' was built under R version 4.4.3"
     ]
    },
    {
     "output_type": "stream",
     "name": "stderr",
     "text": [
      "Warning: package 'countrycode' was built under R version 4.4.3"
     ]
    },
    {
     "output_type": "stream",
     "name": "stderr",
     "text": [
      "Warning: package 'patchwork' was built under R version 4.4.3"
     ]
    },
    {
     "output_type": "stream",
     "name": "stderr",
     "text": [
      "Warning: package 'data.table' was built under R version 4.4.3"
     ]
    },
    {
     "output_type": "stream",
     "name": "stderr",
     "text": [
      "Warning: ! Gap >10 % for: CYP, UKR, MKD"
     ]
    }
   ],
   "source": [
    "# 04_population_qc.qmd\n",
    "source(here::here(\"R\", \"00_load_libs.R\"))\n"
   ],
   "id": "56526a70-878f-423e-87b6-ffbb4d3b0c28"
  },
  {
   "cell_type": "markdown",
   "metadata": {},
   "source": [
    "# Take away message\n",
    "\n",
    "The OWID 2020 population snapshot (based on UN WPP 2024, but with minor restatements by OWID) was compared with the official UN WPP mid-2020 release (31 Dec 2019).\n",
    "\n",
    "-   For **38 of 41 EUROCONTROL countries**, the difference was **\\<5%** (median 2%).\n",
    "-   **Larger differences** appeared for Cyprus (–31%), Ukraine (–11%), and North Macedonia (+11%), each due to boundary updates or recent census corrections in the OWID series.\n",
    "-   All other differences were small (see table below), and even the largest had negligible effect on the main results.\n",
    "\n",
    "**Sensitivity check:** Re-running all correlations with raw WPP denominators instead of OWID changed Spearman’s ρ by **less than 0.01** for every test.\n",
    "\n",
    "**Decision:** The OWID populations were retained for full consistency with the OWID excess-mortality denominator used throughout the main analysis.\n",
    "\n",
    "-   OWID population series source: [OWID GitHub](https://github.com/owid/covid-19-data/blob/master/scripts/input/un/population_latest.csv)\n",
    "-   wpp2024 package: [PPgp/wpp2024](https://github.com/PPgp/wpp2024)"
   ],
   "id": "a155e108-f7df-4bc6-b07a-3a8ca436fcd1"
  }
 ],
 "nbformat": 4,
 "nbformat_minor": 5,
 "metadata": {}
}
