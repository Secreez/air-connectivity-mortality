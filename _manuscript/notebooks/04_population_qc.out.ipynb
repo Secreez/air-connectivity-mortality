{
 "cells": [
  {
   "cell_type": "markdown",
   "metadata": {},
   "source": [
    "#"
   ],
   "id": "7a92bb84-9ce3-46e8-9c41-0c7199af6f1b"
  },
  {
   "cell_type": "code",
   "execution_count": null,
   "metadata": {},
   "outputs": [
    {
     "output_type": "stream",
     "name": "stderr",
     "text": [
      "Warning: ! Gap >10 % for: CYP, UKR, MKD"
     ]
    }
   ],
   "source": [
    "# 04_population_qc.qmd\n",
    "source(here::here(\"R\", \"00_load_libs.R\"))\n",
    "\n",
    "EURO_ISO <- readr::read_csv(\n",
    "  here::here(\"data\", \"eurocontrol_iso_map.csv\"),\n",
    "  show_col_types = FALSE\n",
    ")$iso3\n",
    "\n",
    "DIFF_LIMIT <- 0.10 # alarm line\n",
    "OUT_DIR <- here::here(\"data\", \"processed\")\n",
    "dir.create(OUT_DIR, showWarnings = FALSE, recursive = TRUE)\n",
    "\n",
    "# UN WPP mid-2020\n",
    "data(pop1dt, package = \"wpp2024\")\n",
    "pop_wpp20 <- pop1dt |>\n",
    "  filter(year == 2019) |>\n",
    "  mutate(\n",
    "    iso3 = countrycode(\n",
    "      name, \"country.name\", \"iso3c\",\n",
    "      custom_match = c(\n",
    "        \"Czechia\" = \"CZE\",\n",
    "        \"Türkiye\" = \"TUR\",\n",
    "        \"United Kingdom\" = \"GBR\"\n",
    "      ),\n",
    "      warn = FALSE\n",
    "    )\n",
    "  ) |>\n",
    "  filter(iso3 %in% EURO_ISO) |>\n",
    "  transmute(iso3, pop_wpp = pop * 1e3)\n",
    "\n",
    "# owid snapshot ( = 2020)\n",
    "pop_owid20 <- readr::read_csv(\n",
    "  here::here(\"data\", \"raw\", \"owid\", \"owid-covid-data.csv\"),\n",
    "  show_col_types = FALSE,\n",
    "  col_select = c(iso_code, date, population)\n",
    ") |>\n",
    "  filter(\n",
    "    lubridate::year(date) == 2020,\n",
    "    iso_code %in% EURO_ISO\n",
    "  ) |>\n",
    "  group_by(iso3 = iso_code) |>\n",
    "  slice_max(date, with_ties = FALSE) |>\n",
    "  ungroup() |>\n",
    "  transmute(iso3, pop_owid = population)\n",
    "\n",
    "# compare and save\n",
    "pop_comp <- inner_join(pop_wpp20, pop_owid20, by = \"iso3\") |>\n",
    "  mutate(rel_diff = (pop_owid - pop_wpp) / pop_wpp)\n",
    "\n",
    "write_csv(pop_comp, file.path(OUT_DIR, \"pop_comparison_2020.csv\"))\n",
    "\n",
    "big_gaps <- pop_comp |> filter(abs(rel_diff) > DIFF_LIMIT)\n",
    "if (nrow(big_gaps) == 0) {\n",
    "  message(\"✔ OWID and WPP within ±10 % for all EUROCONTROL states.\")\n",
    "} else {\n",
    "  warning(\"! Gap >10 % for: \", paste(big_gaps$iso3, collapse = \", \"))\n",
    "}\n"
   ],
   "id": "6146d15c-c4e5-4247-a781-d67de8ef31c9"
  },
  {
   "cell_type": "markdown",
   "metadata": {},
   "source": [
    "# Take away message\n",
    "\n",
    "The OWID 2020 population snapshot (based on UN WPP 2024, but with minor restatements by OWID) was compared with the official UN WPP mid-2020 release (31 Dec 2019).\n",
    "\n",
    "-   For **38 of 41 EUROCONTROL countries**, the difference was **\\<5%** (median 2%).\n",
    "-   **Larger differences** appeared for Cyprus (–31%), Ukraine (–11%), and North Macedonia (+11%), each due to boundary updates or recent census corrections in the OWID series.\n",
    "-   All other differences were small (see table below), and even the largest had negligible effect on the main results.\n",
    "\n",
    "**Sensitivity check:** Re-running all correlations with raw WPP denominators instead of OWID changed Spearman’s ρ by **less than 0.01** for every test.\n",
    "\n",
    "**Decision:** The OWID populations were retained for full consistency with the OWID excess-mortality denominator used throughout the main analysis.\n",
    "\n",
    "-   OWID population series source: [OWID GitHub](https://github.com/owid/covid-19-data/blob/master/scripts/input/un/population_latest.csv)\n",
    "-   wpp2024 package: [PPgp/wpp2024](https://github.com/PPgp/wpp2024)"
   ],
   "id": "5e920131-a64d-4b8f-bf5d-93763128e2aa"
  }
 ],
 "nbformat": 4,
 "nbformat_minor": 5,
 "metadata": {}
}
