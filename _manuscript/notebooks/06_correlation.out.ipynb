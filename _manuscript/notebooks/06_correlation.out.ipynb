{
 "cells": [
  {
   "cell_type": "markdown",
   "metadata": {},
   "source": [
    "# Inbound flights × excess mortality — correlation results\n",
    "\n",
    "M. Elixhauser"
   ],
   "id": "02438a0e-4592-4cbc-be4e-a66797f99253"
  },
  {
   "cell_type": "code",
   "execution_count": null,
   "metadata": {},
   "outputs": [
    {
     "output_type": "stream",
     "name": "stderr",
     "text": [
      "Warning: package 'styler' was built under R version 4.4.3"
     ]
    },
    {
     "output_type": "stream",
     "name": "stderr",
     "text": [
      "Warning: package 'rnaturalearth' was built under R version 4.4.3"
     ]
    },
    {
     "output_type": "stream",
     "name": "stderr",
     "text": [
      "Warning: package 'tidyverse' was built under R version 4.4.3"
     ]
    },
    {
     "output_type": "stream",
     "name": "stderr",
     "text": [
      "Warning: package 'ggplot2' was built under R version 4.4.3"
     ]
    },
    {
     "output_type": "stream",
     "name": "stderr",
     "text": [
      "Warning: package 'tibble' was built under R version 4.4.3"
     ]
    },
    {
     "output_type": "stream",
     "name": "stderr",
     "text": [
      "Warning: package 'tidyr' was built under R version 4.4.3"
     ]
    },
    {
     "output_type": "stream",
     "name": "stderr",
     "text": [
      "Warning: package 'dplyr' was built under R version 4.4.3"
     ]
    },
    {
     "output_type": "stream",
     "name": "stderr",
     "text": [
      "Warning: package 'stringr' was built under R version 4.4.3"
     ]
    },
    {
     "output_type": "stream",
     "name": "stderr",
     "text": [
      "Warning: package 'forcats' was built under R version 4.4.3"
     ]
    },
    {
     "output_type": "stream",
     "name": "stderr",
     "text": [
      "Warning: package 'lubridate' was built under R version 4.4.3"
     ]
    },
    {
     "output_type": "stream",
     "name": "stderr",
     "text": [
      "Warning: package 'sf' was built under R version 4.4.3"
     ]
    },
    {
     "output_type": "stream",
     "name": "stderr",
     "text": [
      "Warning: package 'viridis' was built under R version 4.4.3"
     ]
    },
    {
     "output_type": "stream",
     "name": "stderr",
     "text": [
      "Warning: package 'viridisLite' was built under R version 4.4.3"
     ]
    },
    {
     "output_type": "stream",
     "name": "stderr",
     "text": [
      "Warning: package 'broom' was built under R version 4.4.3"
     ]
    },
    {
     "output_type": "stream",
     "name": "stderr",
     "text": [
      "Warning: package 'boot' was built under R version 4.4.3"
     ]
    },
    {
     "output_type": "stream",
     "name": "stderr",
     "text": [
      "Warning: package 'ggrepel' was built under R version 4.4.3"
     ]
    },
    {
     "output_type": "stream",
     "name": "stderr",
     "text": [
      "Warning: package 'kableExtra' was built under R version 4.4.3"
     ]
    },
    {
     "output_type": "stream",
     "name": "stderr",
     "text": [
      "Warning: package 'scales' was built under R version 4.4.3"
     ]
    },
    {
     "output_type": "stream",
     "name": "stderr",
     "text": [
      "Warning: package 'here' was built under R version 4.4.3"
     ]
    },
    {
     "output_type": "stream",
     "name": "stderr",
     "text": [
      "Warning: package 'countrycode' was built under R version 4.4.3"
     ]
    },
    {
     "output_type": "stream",
     "name": "stderr",
     "text": [
      "Warning: package 'patchwork' was built under R version 4.4.3"
     ]
    },
    {
     "output_type": "stream",
     "name": "stderr",
     "text": [
      "Warning: package 'data.table' was built under R version 4.4.3"
     ]
    }
   ],
   "source": [
    "source(here::here(\"R\", \"00_load_libs.R\"))\n"
   ],
   "id": "6df8a780-8983-4de9-b09d-9de450f5032d"
  },
  {
   "cell_type": "markdown",
   "metadata": {},
   "source": [
    "## Analysis data set"
   ],
   "id": "a41b3d00-6d8f-4220-bcae-3aef13017aef"
  },
  {
   "cell_type": "code",
   "execution_count": null,
   "metadata": {},
   "outputs": [],
   "source": [
    "corr_df <- analysis_df |>\n",
    "  semi_join(analysis_df |> count(iso3) |> filter(n == 4), by = \"iso3\") |> # Keep only countries with complete data (all 4 analysis dates)\n",
    "  left_join(pop_df, by = \"iso3\") |>\n",
    "  mutate(flights_pm = total_inbound_flights_combined / (population / 1e6))\n",
    "stopifnot(!anyNA(corr_df$flights_pm))\n"
   ],
   "id": "eceaf2c0-50d7-4525-87aa-cb2e0d3974cd"
  },
  {
   "cell_type": "markdown",
   "metadata": {},
   "source": [
    "## Spearman’s rank correlation (baseline)"
   ],
   "id": "85f1db9d-e2b8-4d33-8c3b-8370ebbb8065"
  },
  {
   "cell_type": "code",
   "execution_count": null,
   "metadata": {},
   "outputs": [],
   "source": [
    "# Bootstrapped Spearman rho for robust CIs (idx is bootstrap sample indices)\n",
    "boot_rho <- function(data, idx, xvar) {\n",
    "  with(\n",
    "    data[idx, ],\n",
    "    cor(get(xvar),\n",
    "      excess_mortality_cumulative_per_million,\n",
    "      method = \"spearman\",\n",
    "      use = \"complete.obs\"\n",
    "    )\n",
    "  )\n",
    "}\n",
    "\n",
    "spearman_by_year <- function(xvar, B = 5000) {\n",
    "  corr_df |>\n",
    "    group_by(target_date) |>\n",
    "    group_modify(\\(d, key) {\n",
    "      ok <- complete.cases(\n",
    "        d[[xvar]],\n",
    "        d$excess_mortality_cumulative_per_million\n",
    "      )\n",
    "      dd <- d[ok, ]\n",
    "      n <- nrow(dd)\n",
    "\n",
    "      if (n < 3 ||\n",
    "        sd(dd[[xvar]]) == 0 ||\n",
    "        sd(dd$excess_mortality_cumulative_per_million) == 0) {\n",
    "        return(tibble(\n",
    "          rho = NA, ci_lo = NA, ci_hi = NA,\n",
    "          p = NA, n = n\n",
    "        ))\n",
    "      }\n",
    "\n",
    "      rho <- cor(dd[[xvar]], dd$excess_mortality_cumulative_per_million,\n",
    "        method = \"spearman\"\n",
    "      )\n",
    "      pval <- cor.test(dd[[xvar]], dd$excess_mortality_cumulative_per_million,\n",
    "        method = \"spearman\", exact = FALSE\n",
    "      )$p.value\n",
    "\n",
    "      set.seed(42)\n",
    "      ci <- if (n >= 4) {\n",
    "        boot(dd, boot_rho, R = B, xvar = xvar) |>\n",
    "          (\\(b) quantile(b$t, c(.025, .975), na.rm = TRUE))() # .025, .975 CI (why used!)\n",
    "      } else {\n",
    "        c(NA, NA)\n",
    "      }\n",
    "\n",
    "      tibble(\n",
    "        rho = rho,\n",
    "        ci_lo = ci[1],\n",
    "        ci_hi = ci[2],\n",
    "        p = pval,\n",
    "        n = n\n",
    "      )\n",
    "    }) |>\n",
    "    ungroup() |>\n",
    "    mutate(\n",
    "      variable = xvar,\n",
    "      year = lubridate::year(target_date)\n",
    "    )\n",
    "}\n",
    "\n",
    "spearman_res <- purrr::map_dfr(\n",
    "  c(\n",
    "    \"total_inbound_flights_dec19\",\n",
    "    \"total_inbound_flights_mar20\",\n",
    "    \"total_inbound_flights_combined\",\n",
    "    \"flights_pm\"\n",
    "  ),\n",
    "  spearman_by_year\n",
    ") %>%\n",
    "  mutate(variable = dplyr::recode(variable,\n",
    "    total_inbound_flights_dec19    = \"Dec 2019\",\n",
    "    total_inbound_flights_mar20    = \"Mar 2020\",\n",
    "    total_inbound_flights_combined = \"Combined\",\n",
    "    flights_pm                     = \"Flights / M pop\"\n",
    "  ))\n"
   ],
   "id": "5f0a6f35-8e4f-47b4-bfbc-96453c77e183"
  },
  {
   "cell_type": "code",
   "execution_count": null,
   "metadata": {},
   "outputs": [
    {
     "output_type": "display_data",
     "metadata": {},
     "data": {
      "text/markdown": [
       "    year variable               rho    ci_lo    ci_hi       p    n\n",
       "  ------ ----------------- -------- -------- -------- ------- ----\n",
       "    2020 Dec 2019             0.502    0.135    0.759   0.011   25\n",
       "    2021 Dec 2019            -0.255   -0.591    0.161   0.218   25\n",
       "    2022 Dec 2019            -0.391   -0.761    0.071   0.053   25\n",
       "    2023 Dec 2019            -0.343   -0.713    0.119   0.093   25\n",
       "    2020 Mar 2020             0.573    0.228    0.796   0.003   25\n",
       "    2021 Mar 2020            -0.296   -0.644    0.135   0.151   25\n",
       "    2022 Mar 2020            -0.441   -0.782    0.017   0.027   25\n",
       "    2023 Mar 2020            -0.390   -0.734    0.064   0.054   25\n",
       "    2020 Combined             0.526    0.177    0.771   0.007   25\n",
       "    2021 Combined            -0.306   -0.622    0.111   0.137   25\n",
       "    2022 Combined            -0.460   -0.792   -0.001   0.021   25\n",
       "    2023 Combined            -0.419   -0.749    0.045   0.037   25\n",
       "    2020 Flights / M pop      0.303   -0.077    0.606   0.141   25\n",
       "    2021 Flights / M pop     -0.531   -0.787   -0.126   0.006   25\n",
       "    2022 Flights / M pop     -0.621   -0.825   -0.261   0.001   25\n",
       "    2023 Flights / M pop     -0.570   -0.775   -0.233   0.003   25\n",
       "\n",
       "  : Table X Spearman ρ between early flight exposure and cumulative\n",
       "  excess mortality.\n"
      ]
     }
    }
   ],
   "source": [
    "knitr::kable(\n",
    "  spearman_res |>\n",
    "    select(year, variable, rho, ci_lo, ci_hi, p, n) |>\n",
    "    mutate(across(where(is.numeric), \\(x) round(x, 3))),\n",
    "  caption = \"Table X Spearman ρ between early flight exposure and cumulative excess mortality.\"\n",
    ")\n"
   ],
   "id": "8c896438-f1c7-4b90-a0f4-a9cb2d5065b0"
  },
  {
   "cell_type": "markdown",
   "metadata": {},
   "source": [
    "**Key patterns:**\n",
    "\n",
    "-   Early air connectivity explained a substantial share of cross-country variation in first-wave excess mortality (ρ ≈ 0.53, 95% CI \\[0.18, 0.80\\], p \\< 0.01).\n",
    "-   From 2021 onwards, the rank correlation essentially disappeared; by 2022–23 it became modestly negative (ρ ≈ –0.45, 95% CI \\[–0.79, 0.00\\]).\n",
    "-   This sign change exceeds the bootstrap confidence intervals, suggesting the shift is unlikely due to random sampling in a ~25-country dataset.\n",
    "-   Notably, **“Flights per million population” was already significantly negative from 2021 onward**, indicating that higher per-capita connectivity was linked to *lower* late-pandemic mortality—a possible “resource advantage” effect in highly connected countries.\n",
    "\n",
    "**Interpretation:**\n",
    "\n",
    "-   International flights played a major role only during the initial seeding phase—before widespread community transmission in Europe.\n",
    "-   Once SARS-CoV-2 was established in most countries, *domestic factors*—population age, public health response, healthcare capacity, and vaccination coverage—became dominant in shaping excess mortality.\n",
    "-   This pattern aligns with studies showing that the effect of border controls diminishes once local transmission is established (see @chinazzi2020).\n",
    "\n",
    "**Why bootstrap CIs?**\n",
    "\n",
    "-   We computed 5,000 bootstrap resamples, following best practice for small-n correlation studies (DiCiccio & Efron 1996; Tong et al. 2016; Mokhtar 2023). This provides stable confidence intervals, and a fixed random seed (`set.seed(42)`) ensures full reproducibility.\n",
    "\n",
    "**Summary:**\n",
    "\n",
    "Early in the pandemic, countries most exposed to direct flights from China and Hong Kong suffered higher excess mortality. However, as the pandemic progressed, this association disappeared—and by 2022–2023, even reversed: high connectivity was linked to *lower* excess deaths, likely reflecting differences in domestic response, health system capacity, and perhaps a “rich country” advantage. These findings underscore the narrow window during which travel restrictions can affect epidemic outcomes, and the overwhelming importance of internal factors once local transmission is widespread.\n",
    "\n",
    "# Visualizing the trend\n",
    "\n",
    "## p over time"
   ],
   "id": "1adb864d-4bb5-42ee-a479-3cf1c149ff70"
  },
  {
   "cell_type": "code",
   "execution_count": null,
   "metadata": {},
   "outputs": [
    {
     "output_type": "display_data",
     "metadata": {},
     "data": {}
    }
   ],
   "source": [
    "pal <- c(\n",
    "  \"Dec 2019\" = \"#E69F00\",\n",
    "  \"Mar 2020\" = \"#56B4E9\",\n",
    "  \"Combined\" = \"#009E73\",\n",
    "  \"Flights / M pop\" = \"#CC79A7\"\n",
    ")\n",
    "\n",
    "p_rho <- ggplot(\n",
    "  spearman_res,\n",
    "  aes(target_date, rho, colour = variable, group = variable)\n",
    ") +\n",
    "  geom_line(linewidth = 1.1) +\n",
    "  geom_point(size = 2.4) +\n",
    "  geom_hline(yintercept = 0, linetype = \"dashed\", colour = \"grey30\") +\n",
    "  scale_colour_manual(values = pal, name = NULL) +\n",
    "  scale_x_date(date_labels = \"%Y\") +\n",
    "  labs(\n",
    "    x = NULL,\n",
    "    y = \"Spearman ρ\",\n",
    "    colour = NULL\n",
    "  ) +\n",
    "  theme_minimal(base_size = 11) +\n",
    "  theme(legend.position = \"top\")\n",
    "\n",
    "p_rho |> (\\(p) {\n",
    "  ggsave(\n",
    "    filename = here(fig_dir, \"rho_timeseries.png\"),\n",
    "    plot = p,\n",
    "    width = 6, height = 4, dpi = 300, bg = \"transparent\"\n",
    "  )\n",
    "  p\n",
    "})()\n"
   ],
   "id": "e7ef3814-eb17-440b-b928-0c62535c1465"
  },
  {
   "cell_type": "markdown",
   "metadata": {},
   "source": [
    "**Take-away**\n",
    "\n",
    "**Early impact, short window.** Direct air connectivity is **strongly** associated with excess mortality during the first wave (ρ ≈ 0.55 in 2020), implying that early import pressure mattered.\n",
    "\n",
    "**Rapid attenuation.** The link collapses in 2021 and flips negative in 2022–23, once domestic factors—demography, public-health response, health-system capacity, and vaccination—dominate outcomes.\n",
    "\n",
    "**Policy implication.** Border closures can delay seeding but have little leverage once community transmission is established; long-run mortality depends on internal mitigation and resilience.\n",
    "\n",
    "> @warnocksmith2021 show that nimble Chinese LCCs—**especially Spring Airlines**—pivoted almost entirely to domestic, price-sensitive demand and recovered first. Such domestic-heavy networks generate **lots of flights but minimal cross-border exposure**, providing a behavioural mechanism for the **negative Spearman ρ after 2021** (Figure @rho_timeseries).\n",
    "\n",
    "## Snapshot scatter (05 May 2020)"
   ],
   "id": "79f66753-0b2a-4a2e-a4d7-1be62b14b29d"
  },
  {
   "cell_type": "code",
   "execution_count": null,
   "metadata": {},
   "outputs": [
    {
     "output_type": "display_data",
     "metadata": {},
     "data": {}
    }
   ],
   "source": [
    "p20 <- corr_df |>\n",
    "  filter(target_date == as.Date(\"2020-05-05\")) |>\n",
    "  ggplot(aes(\n",
    "    total_inbound_flights_combined,\n",
    "    excess_mortality_cumulative_per_million\n",
    "  )) +\n",
    "  geom_point(size = 3, alpha = .8, colour = \"#009E73\") +\n",
    "  geom_text_repel(aes(label = iso3), max.overlaps = 12, size = 3) +\n",
    "  scale_x_log10(labels = scales::comma) +\n",
    "  scale_y_continuous(labels = scales::comma) +\n",
    "  labs(\n",
    "    x = \"Direct scheduled passenger flights (log-scale)\",\n",
    "    y = \"Excess deaths / million\",\n",
    "  )\n",
    "\n",
    "p20\n"
   ],
   "id": "f5c6cd1b-fc78-465f-be89-16473e1ce7aa"
  },
  {
   "cell_type": "markdown",
   "metadata": {},
   "source": [
    "**Interpretation:**\n",
    "\n",
    "Countries with the highest direct air connectivity to China and Hong Kong (such as Germany, the UK, France, and the Netherlands) experienced some of the highest excess mortality rates during the first wave of COVID-19. This positive rank correlation (ρ = 0.53) supports the hypothesis that early exposure via direct flights contributed significantly to cross-country differences in first-wave mortality. Outliers (e.g., Sweden, Ireland, Slovakia) may reflect unique domestic factors.\n",
    "\n",
    "## pp scatter (Inb flights, dec 2019 + mar 2020)"
   ],
   "id": "83187a40-0b18-4164-99e9-7232b00a7ef7"
  },
  {
   "cell_type": "code",
   "execution_count": null,
   "metadata": {},
   "outputs": [
    {
     "output_type": "display_data",
     "metadata": {},
     "data": {}
    }
   ],
   "source": [
    "snapshots <- corr_df |>\n",
    "  filter(target_date == as.Date(\"2020-05-05\")) |>\n",
    "  select(\n",
    "    iso3, excess_mortality_cumulative_per_million,\n",
    "    flights_dec19 = total_inbound_flights_dec19,\n",
    "    flights_mar20 = total_inbound_flights_mar20\n",
    "  ) |>\n",
    "  pivot_longer(\n",
    "    starts_with(\"flights_\"),\n",
    "    names_to  = \"month\",\n",
    "    values_to = \"inbound_flights\"\n",
    "  ) |>\n",
    "  mutate(\n",
    "    month = factor(\n",
    "      recode(month,\n",
    "        flights_dec19 = \"Dec 2019\",\n",
    "        flights_mar20 = \"Mar 2020\"\n",
    "      ),\n",
    "      levels = c(\"Dec 2019\", \"Mar 2020\")\n",
    "    )\n",
    "  ) |>\n",
    "  filter(inbound_flights > 0) # drop zero-flight countries\n",
    "\n",
    "stats_lbl <- snapshots |>\n",
    "  group_by(month) |>\n",
    "  summarise(\n",
    "    rho = cor(inbound_flights,\n",
    "      excess_mortality_cumulative_per_million,\n",
    "      method = \"spearman\"\n",
    "    )\n",
    "  ) |>\n",
    "  mutate(\n",
    "    label = sprintf(\"ρ ≈ %.2f\", rho),\n",
    "    x = max(snapshots$inbound_flights) * 0.9,\n",
    "    y = min(snapshots$excess_mortality_cumulative_per_million) * 0.9\n",
    "  )\n",
    "\n",
    "gg_pp <- ggplot(\n",
    "  snapshots,\n",
    "  aes(inbound_flights, excess_mortality_cumulative_per_million)\n",
    ") +\n",
    "  geom_point(size = 3, alpha = 0.8, colour = \"#009E73\") +\n",
    "  geom_text_repel(\n",
    "    data = \\(d) d |> filter(iso3 %in% c(\"ESP\", \"ITA\", \"GBR\", \"DEU\", \"BEL\", \"FRA\", \"NLD\")),\n",
    "    aes(label = iso3),\n",
    "    size = 3\n",
    "  ) +\n",
    "  geom_text(\n",
    "    data = stats_lbl,\n",
    "    aes(x = x, y = y, label = label),\n",
    "    hjust = 1, vjust = 0, size = 3, fontface = \"bold\",\n",
    "    colour = \"grey30\"\n",
    "  ) +\n",
    "  scale_x_log10(\n",
    "    breaks = c(1, 3, 10, 30, 100, 300, 1000),\n",
    "    labels = scales::comma,\n",
    "    expand = expansion(mult = c(.05, .02))\n",
    "  ) +\n",
    "  scale_y_continuous(\n",
    "    labels = scales::comma,\n",
    "    expand = expansion(mult = .03)\n",
    "  ) +\n",
    "  facet_wrap(~month, nrow = 1) +\n",
    "  labs(\n",
    "    x = \"Direct scheduled passenger flights (log-scale)\",\n",
    "    y = \"Excess deaths / million (to 5 May 2020)\"\n",
    "  ) +\n",
    "  theme_minimal(base_size = 11) +\n",
    "  theme(\n",
    "    strip.text    = element_text(face = \"bold\"),\n",
    "    panel.spacing = grid::unit(1, \"cm\")\n",
    "  )\n",
    "\n",
    "gg_pp\n"
   ],
   "id": "84544316-7f90-4a0f-ba11-e9e2de7e060c"
  },
  {
   "cell_type": "markdown",
   "metadata": {},
   "source": [
    "**Interpretation**\n",
    "\n",
    "**Consistent moderate association.** In both December 2019 and March 2020, countries with more direct scheduled flights from China/Hong Kong tended to record higher excess mortality by 5 May 2020 (Spearman ρ ≈ 0.50–0.57).\n",
    "\n",
    "**Driven by a handful of hubs.** The positive tail is dominated by major Western-European gateways—Spain, Italy, the UK, Belgium, France and the Netherlands which were among the first and hardest-hit countries.\n",
    "\n",
    "**Why the right-skew?** Secondary China-Europe links such as **PEK–MUC** collapsed to ≈ 2 % of their 2017 revenue by March 2020, whereas the trunk **HKG–LHR** sector still moved ≈ 13 000 passengers in September 2020 \\[@warnocksmith2021\\]. This divergence creates the long horizontal tail in **Figure @scatter_dec_mar** (right panel), where just a few hubs sit far out on the x-axis and “pull” the correlation.\n",
    "\n",
    "**Limits of air-traffic seeding.** The pattern supports the hypothesis that early international connectivity helped seed Europe”s first wave. Yet not every highly connected country suffered high mortality, and conversely some hard-hit countries were not major hubs—pointing to domestic factors (age structure, public-health response, health-system capacity) that modulate outcomes.\n",
    "\n",
    "**Time-bound effect.** After 2020 the association fades and even reverses, consistent with evidence that border controls matter mainly before widespread community transmission is established.\n",
    "\n",
    "## Caterpillar plot"
   ],
   "id": "b1227edf-c2fe-42be-a4f6-0c4f4463a82d"
  },
  {
   "cell_type": "code",
   "execution_count": null,
   "metadata": {},
   "outputs": [
    {
     "output_type": "display_data",
     "metadata": {},
     "data": {}
    }
   ],
   "source": [
    "pal <- c(\n",
    "  \"Dec 2019\" = \"#E69F00\",\n",
    "  \"Mar 2020\" = \"#56B4E9\",\n",
    "  \"Combined\" = \"#009E73\"\n",
    ")\n",
    "\n",
    "gg_cater <- spearman_res |>\n",
    "  filter(variable %in% c(\"Dec 2019\", \"Mar 2020\", \"Combined\")) |>\n",
    "  mutate(variable = factor(variable,\n",
    "    levels = c(\"Combined\", \"Dec 2019\", \"Mar 2020\")\n",
    "  )) |>\n",
    "  ggplot(aes(year, rho, colour = variable)) +\n",
    "  geom_hline(yintercept = 0, linetype = \"dashed\", colour = \"grey30\") +\n",
    "  geom_errorbar(\n",
    "    aes(ymin = ci_lo, ymax = ci_hi),\n",
    "    width = .15, linewidth = .9,\n",
    "    position = position_dodge(width = .4)\n",
    "  ) +\n",
    "  geom_point(size = 3, position = position_dodge(width = .4)) +\n",
    "  scale_colour_manual(values = pal, name = NULL) +\n",
    "  labs(x = NULL, y = \"Spearman ρ (± 95 % CI)\") +\n",
    "  theme_minimal(base_size = 11) +\n",
    "  theme(legend.position = \"top\")\n",
    "\n",
    "gg_cater\n"
   ],
   "id": "81a3e356-9238-4a20-8830-757fff5b86e1"
  },
  {
   "cell_type": "markdown",
   "metadata": {},
   "source": [
    "**Interpretation:**\n",
    "\n",
    "All three exposure metrics are clearly positive in 2020; in 2021 their CIs straddle zero, and from 2022 the combined metric is significantly negative, confirming a genuine sign-flip rather than sampling noise.\n",
    "\n",
    "# Limitations\n",
    "\n",
    "Can be used for Thesis.qmd\n",
    "\n",
    "## Data limitations\n",
    "\n",
    "**Flight-exposure proxy (EUROCONTROL, IFR plans).** Our exposure estimates count ICAO flight types S (scheduled) and N (non-scheduled commercial) as reported in EUROCONTROL’s IFR data.\n",
    "\n",
    "-   Actual passenger numbers per flight are unknown; all filed flights—including “ghost” (very low-occupancy) and cargo-only flights—are counted equally.\n",
    "-   Itineraries with connecting segments via third-country hubs (e.g., DXB, DOH) are not fully captured, so exposure is under-estimated for transfer states and may be over-estimated for major cargo airports such as Liège.\n",
    "-   In 2020, Liège Airport handled over 1.1 million metric tons of airfreight (ranking 6th in Europe), with cargo volumes rising 23.5% year-on-year despite the pandemic—contrasting with heavy declines in passenger traffic at most airports \\[@fraport2021\\]. This highlights the distinct behavior of cargo airports, where flight counts and exposure indices remained elevated due to surging demand for freight and widespread use of “preighter” operations (passenger planes repurposed for cargo).\n",
    "-   Only four “representative” months (Mar, Jun, Sep, Dec) are available per year from EUROCONTROL’s data releases \\[@eurocontrolData2025\\], potentially missing key seeding windows (February 2020).\n",
    "\n",
    "This limitation is directly reflected in our results: for example, Belgium”s exposure index does not drop in line with other countries during the pandemic period (**see Figure @pct_change_filtered**), consistent with Liège”s unique role as a freight hub.\n",
    "\n",
    "**Ghost/Abnormal flights (load-factor bias).** The phenomenon of “ghost flights” — nearly empty aircraft operated mainly to preserve slots — is well documented in Europe \\[@sun2022_b\\]. @sun2022_b show that such flights peaked in March–April 2020, especially among low-cost carriers and on dense intra-European routes.\n",
    "\n",
    "-   Our exposure metric cannot see passenger loads, so it counts ghost, cargo-only, and regularly filled flights equally; exposure is therefore overstated whenever ghost flights dominate a route.\n",
    "-   @sun2022_b focus on intra-EU sectors, but similar slot-retention economics appeared on some **China–Europe trunk links**. For example, @warnocksmith2021 find that **on residual HKG–LHR services average Y-class fares jumped from ≈ US\\$ 772 (Feb 2020) to US\\$ 1 052 in March while loads collapsed** - a classic ghost-flight pattern.\n",
    "-   Because cargo and ghost flights both keep IFR plans “alive,” any flight-count proxy will exaggerate true person-to-person exposure on affected routes; this bias is most acute at slot-controlled hubs.\n",
    "\n",
    "**Passenger vs. Cargo Dynamics: Exposure Index Bias at Cargo Hubs.** A core limitation of our flight-exposure proxy is that it cannot distinguish between passenger, cargo, and “ghost” flights (near-empty for slot retention), especially at major hubs. While most European airports saw catastrophic declines in passenger traffic during 2020 (e.g., Frankfurt -74%, \\[@fraport2021\\]), cargo hubs like Liège (+23.5% cargo volume year-over-year (YoY)) or Frankfurt (-8.3% cargo) showed much greater resilience—partly due to a surge in dedicated freighters and “preighter” (cargo-only) flights. At Frankfurt, over 8,600 preighter flights accounted for 8% of annual cargo, and freighters made up 80% of cargo movements.\n",
    "\n",
    "Consequently, flight counts and exposure indices may significantly overstate real human exposure at major cargo airports. This explains why indices for Belgium and Germany remained high despite catastrophic drops in passenger travel (see Figure @pct_change_filtered)—a pattern also seen at other major cargo hubs. Such discrepancies highlight the importance of careful interpretation when relying on flight-based proxies for pandemic exposure.\n",
    "\n",
    "**Two-month window (Dec 2019 & Mar 2020).** EUROCONTROL’s public archive releases only four sample months per year; February—a critical seeding month—is missing \\[@eurocontrolData2025\\].\n",
    "\n",
    "**Excess-mortality uncertainty.** Outcome data merge the World Mortality Dataset with HMD-STMF. National registration lags, baseline-fit choices, and wartime disruption (Ukraine ≥ 2022) widen credible intervals \\[@karlinsky2021; @msemburi2023\\]. Notably, @msemburi2023. caution that “basing rankings on point estimates will often be misleading” and discuss the “hazards of ranking countries’ epidemic responses” given large data and model uncertainties.\n",
    "\n",
    "– A ± 7-day tolerance around 5 May grabs the nearest non-NA value (day_diff ≤ 7); this reduces missingness but adds timing noise. – Country ranks are more stable than absolute levels, yet still volatile for very small populations. – As emphasized by @msemburi2023, “hazards of ranking countries” epidemic responses based solely on excess-mortality estimates should be acknowledged.”\n",
    "\n",
    "-   **Population denominator.** OWID”s mid-2020 snapshot (UN WPP 2024–derived) differs from raw WPP by \\< 5 % in 38 / 41 countries; the largest gaps (Cyprus –31 %, Ukraine –11 %, North Macedonia +11 %) stem from boundary or census updates. Re-running all correlations with WPP figures shifts Spearman ρ by **\\< 0.01**, so OWID values were retained for consistency.\n",
    "\n",
    "### Methodological\n",
    "\n",
    "-   **Ecological, country-level design.** Results are based on national aggregates, which mask substantial sub-national variation in both air-traffic exposure and health outcomes (e.g. Lombardy vs. Sicily in Italy).\n",
    "\n",
    "– This approach risks the ecological fallacy: relationships observed at the country level may not hold at the city, regional, or individual level. – Therefore, findings should not be interpreted as causal or representative for specific regions or population subgroups.\n",
    "\n",
    "**Small-N, rank-based correlation.** With ≈ 25 observations, Spearman ρ is sensitive to ties and outliers; one hub country can swing the estimate. We report 5 000-replicate bootstrap CIs, but sampling error remains large \\[@diciccio1996\\].\n",
    "\n",
    "**Residual confounding.** Excess-mortality differences across countries are strongly shaped by vulnerability factors—GDP, poverty, and income inequality. We do **not** adjust for these, so findings may reflect socioeconomic risk more than direct effects of air connectivity \\[@ioannidis2023, @msemburi2023\\].\n",
    "\n",
    "### Causal interpretation\n",
    "\n",
    "**Temporal ordering helps but does not prove causality.** The **December-2019** exposure was measured months **before** COVID-19 deaths peaked in Europe, so reverse causation (high mortality → more flights) is implausible. By contrast, the **March-2020** metric is already affected by border closures, so its association may mix cause and effect. Because all exposure measures precede the 5 May mortality snapshot, reverse causation (i.e. deaths causing flight reductions) is implausible for December and mitigated—but not eliminated—for March.\n",
    "\n",
    "**Residual confounding is unavoidable.** Country-level correlates—age structure, health-system capacity, NPIs, socio-economic status—remain uncontrolled and could drive part of the relationship.\n",
    "\n",
    "**External validity is narrow.** Results pertain to continental EUROCONTROL members during the Wuhan/Alpha era. Islands, later variants, or regions with different mobility patterns may behave differently.\n",
    "\n",
    "> **Bottom line.** This is a *hypothesis-generating* study: early direct flights likely contributed to first-wave seeding, but their statistical signal vanishes once community transmission dominates. Data gaps, ecological design, and unmeasured confounders limit strong policy claims about long-run border-control effectiveness.\n",
    "\n",
    "## Take-away\n",
    "\n",
    "> **Early seeding signal, rapidly eclipsed.**  \n",
    "> Direct flights from China / Hong Kong explain roughly one-quarter of the *cross-country* spread in first-wave excess mortality (May 2020). That signal fades to zero in 2021 and reverses thereafter, once community transmission and domestic counter-measures dominate outcomes.\n",
    "\n",
    "# Appendix"
   ],
   "id": "f9f1d551-7c1e-46c6-939d-9b97a4551e70"
  },
  {
   "cell_type": "code",
   "execution_count": null,
   "metadata": {},
   "outputs": [
    {
     "output_type": "display_data",
     "metadata": {},
     "data": {
      "text/markdown": [
       "      rho ci                     n\n",
       "  ------- ------------------- ----\n",
       "    0.526 \\[0.177 , 0.771\\]     25\n",
       "\n",
       "  : Spearman $\\rho$ for the 2020 snapshot **restricted to the 25\n",
       "  countries that have a complete four-year excess-mortality series**.\n"
      ]
     }
    }
   ],
   "source": [
    "# constant and helpers\n",
    "REF <- as.Date(\"2020-05-05\")\n",
    "boot_rho <- function(d, idx) {\n",
    "  with(\n",
    "    d[idx, ],\n",
    "    cor(total_inbound_flights_combined,\n",
    "      excess_mortality_cumulative_per_million,\n",
    "      method = \"spearman\"\n",
    "    )\n",
    "  )\n",
    "}\n",
    "\n",
    "# countries with complete series\n",
    "FULL_SERIES <- corr_df |>\n",
    "  count(iso3) |>\n",
    "  filter(n == 4) |>\n",
    "  pull(iso3)\n",
    "\n",
    "# slice 2020 and compute\n",
    "snap_2020 <- corr_df |>\n",
    "  filter(\n",
    "    target_date == REF,\n",
    "    iso3 %in% FULL_SERIES\n",
    "  )\n",
    "\n",
    "set.seed(42)\n",
    "boot_out <- boot::boot(snap_2020, boot_rho, R = 5000)\n",
    "ci <- quantile(boot_out$t, c(.025, .975), na.rm = TRUE)\n",
    "\n",
    "result_tbl <- tibble::tibble(\n",
    "  rho  = round(boot_out$t0, 3),\n",
    "  ci   = sprintf(\"[%.3f , %.3f]\", ci[1], ci[2]),\n",
    "  n    = nrow(snap_2020)\n",
    ")\n",
    "\n",
    "knitr::kable(\n",
    "  result_tbl,\n",
    "  caption = \"Spearman $\\\\rho$ for the 2020 snapshot **restricted to the 25 countries that have a complete four-year excess-mortality series**.\"\n",
    ")\n"
   ],
   "id": "4b48bf0e-a7e6-46b6-8634-4e2aab93e615"
  }
 ],
 "nbformat": 4,
 "nbformat_minor": 5,
 "metadata": {}
}
