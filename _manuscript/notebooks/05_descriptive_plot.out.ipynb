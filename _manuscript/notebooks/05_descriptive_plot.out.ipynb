{
 "cells": [
  {
   "cell_type": "markdown",
   "metadata": {},
   "source": [
    "# Descriptive patterns early CN/HK → EUROCONTROL flights\n",
    "\n",
    "Maximilian Elixhauser"
   ],
   "id": "c8a78fb4-59ec-4f64-92f9-4066f7cb307d"
  },
  {
   "cell_type": "code",
   "execution_count": null,
   "metadata": {},
   "outputs": [
    {
     "output_type": "stream",
     "name": "stderr",
     "text": [
      "Warning: package 'styler' was built under R version 4.4.3"
     ]
    },
    {
     "output_type": "stream",
     "name": "stderr",
     "text": [
      "Warning: package 'rnaturalearth' was built under R version 4.4.3"
     ]
    },
    {
     "output_type": "stream",
     "name": "stderr",
     "text": [
      "Warning: package 'tidyverse' was built under R version 4.4.3"
     ]
    },
    {
     "output_type": "stream",
     "name": "stderr",
     "text": [
      "Warning: package 'ggplot2' was built under R version 4.4.3"
     ]
    },
    {
     "output_type": "stream",
     "name": "stderr",
     "text": [
      "Warning: package 'tibble' was built under R version 4.4.3"
     ]
    },
    {
     "output_type": "stream",
     "name": "stderr",
     "text": [
      "Warning: package 'tidyr' was built under R version 4.4.3"
     ]
    },
    {
     "output_type": "stream",
     "name": "stderr",
     "text": [
      "Warning: package 'dplyr' was built under R version 4.4.3"
     ]
    },
    {
     "output_type": "stream",
     "name": "stderr",
     "text": [
      "Warning: package 'stringr' was built under R version 4.4.3"
     ]
    },
    {
     "output_type": "stream",
     "name": "stderr",
     "text": [
      "Warning: package 'forcats' was built under R version 4.4.3"
     ]
    },
    {
     "output_type": "stream",
     "name": "stderr",
     "text": [
      "Warning: package 'lubridate' was built under R version 4.4.3"
     ]
    },
    {
     "output_type": "stream",
     "name": "stderr",
     "text": [
      "Warning: package 'sf' was built under R version 4.4.3"
     ]
    },
    {
     "output_type": "stream",
     "name": "stderr",
     "text": [
      "Warning: package 'viridis' was built under R version 4.4.3"
     ]
    },
    {
     "output_type": "stream",
     "name": "stderr",
     "text": [
      "Warning: package 'viridisLite' was built under R version 4.4.3"
     ]
    },
    {
     "output_type": "stream",
     "name": "stderr",
     "text": [
      "Warning: package 'broom' was built under R version 4.4.3"
     ]
    },
    {
     "output_type": "stream",
     "name": "stderr",
     "text": [
      "Warning: package 'boot' was built under R version 4.4.3"
     ]
    },
    {
     "output_type": "stream",
     "name": "stderr",
     "text": [
      "Warning: package 'ggrepel' was built under R version 4.4.3"
     ]
    },
    {
     "output_type": "stream",
     "name": "stderr",
     "text": [
      "Warning: package 'kableExtra' was built under R version 4.4.3"
     ]
    },
    {
     "output_type": "stream",
     "name": "stderr",
     "text": [
      "Warning: package 'scales' was built under R version 4.4.3"
     ]
    },
    {
     "output_type": "stream",
     "name": "stderr",
     "text": [
      "Warning: package 'here' was built under R version 4.4.3"
     ]
    },
    {
     "output_type": "stream",
     "name": "stderr",
     "text": [
      "Warning: package 'countrycode' was built under R version 4.4.3"
     ]
    },
    {
     "output_type": "stream",
     "name": "stderr",
     "text": [
      "Warning: package 'patchwork' was built under R version 4.4.3"
     ]
    },
    {
     "output_type": "stream",
     "name": "stderr",
     "text": [
      "Warning: package 'data.table' was built under R version 4.4.3"
     ]
    }
   ],
   "source": [
    "source(here::here(\"R\", \"00_load_libs.R\"))\n"
   ],
   "id": "888f5c15-654c-4a93-8553-8c7f1789e5b7"
  },
  {
   "cell_type": "markdown",
   "metadata": {},
   "source": [
    "> Among continental EUROCONTROL member states, is a higher volume of direct inbound flights from China / Hong Kong / Macao (Dec 2019 & Mar 2020) associated with higher cumulative excess mortality on 5 May 2020?\n",
    "\n",
    "Snapshots for 2021-2023 are analysed as robustness checks.\n",
    "\n",
    "### Objectives\n",
    "\n",
    "**1. Measure exposure:** Create a country-level index of inbound IFR flights (Dec 2019, Mar 2020, sum) from EUROCONTROL data.\n",
    "\n",
    "**2. Rank & correlate:** Compute Spearman ρ between exposure ranks and excess-mortality ranks on 5 May 2020; repeat for 2021-2023.\n",
    "\n",
    "**3. Appraise validity:** Discuss strengths and limits of flight counts as a proxy for epidemic seeding\n",
    "\n",
    "# Results: Flight Exposure Patterns\n",
    "\n",
    "## Top 10 Destination Bar"
   ],
   "id": "87e8cd6c-39e6-4d40-b11a-6f6e2e166329"
  },
  {
   "cell_type": "code",
   "execution_count": null,
   "metadata": {},
   "outputs": [
    {
     "output_type": "display_data",
     "metadata": {},
     "data": {}
    }
   ],
   "source": [
    "top10 <- flights_country |>\n",
    "  slice_max(total_inbound_flights_combined, n = 10) |>\n",
    "  pivot_longer(\n",
    "    starts_with(\"total_\"),\n",
    "    names_to  = \"window\",\n",
    "    values_to = \"flights\"\n",
    "  ) |>\n",
    "  mutate(\n",
    "    window = recode(window,\n",
    "      total_inbound_flights_dec19    = \"Dec 2019\",\n",
    "      total_inbound_flights_mar20    = \"Mar 2020\",\n",
    "      total_inbound_flights_combined = \"Combined\"\n",
    "    ),\n",
    "    iso_country = fct_reorder(iso_country, flights, .fun = max)\n",
    "  )\n",
    "\n",
    "pal <- c(\n",
    "  \"Dec 2019\" = \"#E69F00\",\n",
    "  \"Mar 2020\" = \"#56B4E9\",\n",
    "  \"Combined\" = \"#009E73\"\n",
    ")\n",
    "\n",
    "p_top10 <- ggplot(\n",
    "  top10,\n",
    "  aes(iso_country, flights, fill = window)\n",
    ") +\n",
    "  geom_col(position = position_dodge(width = .75), width = .65) +\n",
    "  coord_flip() +\n",
    "  scale_y_continuous(labels = comma) +\n",
    "  scale_fill_manual(values = pal, name = NULL) +\n",
    "  labs(\n",
    "    title = \"Top-10 EUROCONTROL destinations\",\n",
    "    subtitle = \"Direct passenger flights from China & Hong Kong*  (Dec 2019 and Mar 2020)\",\n",
    "    x = NULL, y = \"Number of flights\",\n",
    "  ) +\n",
    "  theme_minimal(base_size = 10) +\n",
    "  theme(\n",
    "    legend.position = \"top\",\n",
    "    legend.justification = \"left\",\n",
    "    plot.title.position = \"plot\",\n",
    "    axis.text.y = element_text(size = 9)\n",
    "  )\n",
    "\n",
    "p_top10\n"
   ],
   "id": "4dcb1f6d-60a7-435e-9ee1-02a050e1b201"
  },
  {
   "cell_type": "markdown",
   "metadata": {},
   "source": [
    "-   The acronym CN/HK is used for completeness, although the EUROCONTROL records contain zero Macao–Europe flights in the study windows; analyses therefore reflect traffic from mainland China and Hong Kong only.\n",
    "\n",
    "In December 2019 the direct CN/HK traffic into Europe was highly concentrated: Germany (DE), the United Kingdom (GB) and the Netherlands (NL) alone handled \\> 60 % of all arrivals, followed by France and Belgium as secondary hubs. Every other EUROCONTROL state received fewer than 300 flights that month. By March 2020 volumes collapsed everywhere (blue bars) yet the ranking hardly changed: the same three hubs still dominated, each retaining 30-50 % of their December traffic, while Italy, Turkey and Finland - already mid-tier in December - fell below 250 flights. Combining both months (green bars) therefore produces an extremely right-skewed distribution: the top two countries (DE, GB) each saw \\> 900 direct flights, four times as many as rank #4. Interpretation: epidemic “import pressure” from direct flights was not evenly spread across Europe; instead, a small group of Western European gateways bore the brunt of exposure in both the initial seeding phase (December 2019) and the onset of pandemic restrictions (March 2020), when coordinated lockdowns and border closures rapidly reduced international flight volumes.\n",
    "\n",
    "## Route diversity\n",
    "\n",
    "### Panel Plot: Distinct origins per destination (combined & monthly)"
   ],
   "id": "0d5b1f10-d062-4502-906f-d96ce662827e"
  },
  {
   "cell_type": "code",
   "execution_count": null,
   "metadata": {},
   "outputs": [
    {
     "output_type": "display_data",
     "metadata": {},
     "data": {}
    }
   ],
   "source": [
    "top15 <- flows_pairwise |>\n",
    "  distinct(ADEP, ADES) |>\n",
    "  count(ADES, name = \"n_origins\") |>\n",
    "  slice_max(n_origins, n = 15) |>\n",
    "  pull(ADES)\n",
    "\n",
    "combined_df <- flows_pairwise |>\n",
    "  filter(ADES %in% top15) |>\n",
    "  distinct(ADEP, ADES) |>\n",
    "  count(ADES, name = \"n_origins\") |>\n",
    "  left_join(airports, by = c(ADES = \"icao_code\")) |>\n",
    "  mutate(\n",
    "    panel = \"Combined\",\n",
    "    month = \"Combined\"\n",
    "  )\n",
    "\n",
    "monthly_df <- flights_filtered |>\n",
    "  filter(ADES %in% top15) |>\n",
    "  distinct(month, ADEP, ADES) |>\n",
    "  count(month, ADES, name = \"n_origins\") |>\n",
    "  left_join(airports, by = c(ADES = \"icao_code\")) |>\n",
    "  mutate(\n",
    "    month = recode(month, dec19 = \"Dec 2019\", mar20 = \"Mar 2020\"),\n",
    "    panel = \"Monthly\"\n",
    "  )\n",
    "\n",
    "plot_df <- bind_rows(combined_df, monthly_df) |>\n",
    "  mutate(\n",
    "    name  = fct_reorder(name, n_origins),\n",
    "    month = factor(month, levels = c(\"Combined\", \"Dec 2019\", \"Mar 2020\")),\n",
    "    panel = factor(panel, levels = c(\"Combined\", \"Monthly\"))\n",
    "  )\n",
    "\n",
    "pal_fill <- c(\n",
    "  \"Combined\" = \"#009E73\",\n",
    "  \"Dec 2019\" = \"#E69F00\",\n",
    "  \"Mar 2020\" = \"#56B4E9\"\n",
    ")\n",
    "\n",
    "panel_plot <- ggplot(plot_df, aes(n_origins, name, fill = month)) +\n",
    "  geom_col(width = .6, position = position_dodge(width = .6)) +\n",
    "  facet_grid(. ~ panel,\n",
    "    scales = \"fixed\",\n",
    "    space  = \"free_x\"\n",
    "  ) +\n",
    "  scale_fill_manual(values = pal_fill, name = NULL) +\n",
    "  scale_x_continuous(expand = c(0, 0)) +\n",
    "  labs(\n",
    "    title = \"How many different CN/HK airports feed each EUROCONTROL destination?\",\n",
    "    x = \"Unique origin airports\",\n",
    "    y = NULL\n",
    "  ) +\n",
    "  theme_minimal(base_size = 9) +\n",
    "  theme(\n",
    "    strip.text      = element_text(face = \"bold\"),\n",
    "    axis.text.y     = element_text(size = 7),\n",
    "    legend.position = \"top\",\n",
    "    panel.spacing.x = unit(1.1, \"cm\")\n",
    "  )\n",
    "\n",
    "panel_plot\n"
   ],
   "id": "50d52ed1-8e2d-421c-a4c1-930f6fda6a9d"
  },
  {
   "cell_type": "markdown",
   "metadata": {},
   "source": [
    "Direct links were not only concentrated by volume (see @bar_top10), but also by route diversity. In total, 15 CN/HK airports fed London-Heathrow, 13 fed Paris-CDG and 12 fed Frankfurt between December 2019 and March 2020 (left panel, green bars). Every other EUROCONTROL destination received routes from ≤ 10 origins, and most from fewer than 6. The month-specific panel (right) reveals that this breadth of origins existed already in December (orange) and, despite the March collapse (blue), the major hubs still drew from 4-6 different airports while almost all secondary gateways fell to one or two. **Implication:** the first-wave seeding risk was amplified not just by sheer flight counts but by the variety of source cities funnelling into the same Western European hubs, increasing the chance of multiple independent introductions.\n",
    "\n",
    "(\\[Could be a good sentence for correlation after:\\] Because both exposure volume and diversity are right-skewed toward a handful of destinations, correlations with excess mortality might be driven by these outliers as much as by a monotone trend across all countries—an issue the next section explores with rank-based statistics and robustness checks.)\n",
    "\n",
    "### Scatterplot: log volume vs. route diversity (airport level)"
   ],
   "id": "b6eeb25f-070e-42c5-ad1b-410f8fcd95a2"
  },
  {
   "cell_type": "code",
   "execution_count": null,
   "metadata": {},
   "outputs": [
    {
     "output_type": "display_data",
     "metadata": {},
     "data": {}
    },
    {
     "output_type": "stream",
     "name": "stdout",
     "text": [
      "[1] 47"
     ]
    }
   ],
   "source": [
    "dest_stats <- flows_pairwise |>\n",
    "  group_by(ADES) |>\n",
    "  summarise(\n",
    "    total_flights = sum(n_flights),\n",
    "    n_origins = n_distinct(ADEP),\n",
    "    .groups = \"drop\"\n",
    "  ) |>\n",
    "  filter(total_flights > 0) |>\n",
    "  left_join(airports, by = c(\"ADES\" = \"icao_code\")) |>\n",
    "  mutate(short_name = str_remove(name, \" (International )?Airport$\"))\n",
    "\n",
    "# one-liner Spearman calculation\n",
    "air_cor <- cor.test(dest_stats$total_flights,\n",
    "  dest_stats$n_origins,\n",
    "  method = \"spearman\", exact = FALSE\n",
    ")\n",
    "\n",
    "# round for reporting\n",
    "rho_air <- round(unname(air_cor$estimate), 2) # 0.86\n",
    "p_air <- format.pval(air_cor$p.value, digits = 2) # < 0.001\n",
    "\n",
    "\n",
    "p_scatter <- ggplot(\n",
    "  dest_stats,\n",
    "  aes(x = total_flights, y = n_origins)\n",
    ") +\n",
    "  geom_point(size = 3, alpha = .75, colour = \"#56B4E9\") +\n",
    "  geom_text_repel(\n",
    "    data = dest_stats |> filter(total_flights > 200 | n_origins > 8),\n",
    "    aes(label = short_name), size = 3, max.overlaps = 10\n",
    "  ) +\n",
    "  scale_x_log10(labels = comma, expand = c(0.02, 0)) +\n",
    "  labs(\n",
    "    title = \"Volume vs Route Diversity\",\n",
    "    subtitle = \"Each dot = one EUROCONTROL destination airport\",\n",
    "    x = \"Total direct flights (Dec 2019 + Mar 2020, log-scale)\",\n",
    "    y = \"Distinct CN/HK origin airports\",\n",
    "    caption = glue::glue(\"Spearman ρ = {rho_air} (p {p_air}); n = {nrow(dest_stats)} airports\")\n",
    "  ) +\n",
    "  theme_minimal(base_size = 11)\n",
    "\n",
    "p_scatter\n"
   ],
   "id": "1be04e5d-7d0d-4bff-9626-2119066a1701"
  },
  {
   "cell_type": "markdown",
   "metadata": {},
   "source": [
    "-   **Clear positive association.** Among the 47 EUROCONTROL airports that received at least one direct flight from China/Hong Kong in Dec 2019 or Mar 2020, both flight volume and route diversity increased together (Spearman ρ ≈ 0.86, p \\< 0.001). On average, every additional ~100 flights corresponded to **1–2 extra origin airports**.\n",
    "-   **Right-skewed hierarchy.** Four major hubs—**London Heathrow** (748 flights, 15 origins), **Frankfurt** (638/12), **Amsterdam Schiphol** (577/9), **Paris-CDG** (469/13)—dominated, while all other airports handled \\<200 flights and ≤5 origins. This demonstrates that early “import pressure” from China was highly concentrated in a small number of Western European gateways.\n",
    "-   **Cargo outlier – Liège (LGG).** **Liège** stands out with high route diversity (7 origins) for its moderate volume (205 flights), reflecting its status as a **dedicated cargo hub** (notably for UPS and DHL (\\[REF!\\])). As the underlying dataset treats cargo and passenger flights equally, this position may **overstate the true risk of passenger-borne seeding at cargo airports**-especially during the pandemic, when cargo volumes were resilient or even increased despite a collapse in passenger traffic \\[@fraport2021\\].\n",
    "-   **Limitation.** These results are based on **filed IFR flight plans**, not actual passenger numbers. Each origin is weighted equally, so the plot reflects the *opportunity* for multiple introductions, not the real number of travelers.\n",
    "-   **Cargo vs. passenger airports.** As revealed by 2020 statistics, passenger traffic at most hubs (e.g., Frankfurt) fell \\>70%, but **cargo airports like Liège saw a 23.5% increase in volume**, highlighting a key limitation of using flight counts as a proxy for person-to-person exposure \\[@fraport2021\\].\n",
    "-   **Country-level implications.** This skew is echoed at the country level (ρ ≈ 0.53 for “combined” exposure): national rankings are driven largely by these few dominant gateways and are sensitive to the distinction between cargo and passenger operations.\n",
    "\n",
    "> **Take-away:** Volume and route diversity rose in lock-step only for the largest hubs. Most European destinations were both low-volume **and** low-diversity, limiting their early exposure, while major Western gateways—and key cargo airports—acted as the main “funnels” for potential epidemic seeding events.\n",
    "\n",
    "## Collapse Bar: Percentage change (countries with ≥ 5 Dec flights)"
   ],
   "id": "d9d7d0b9-6711-488a-a0f8-535c925b6ef2"
  },
  {
   "cell_type": "code",
   "execution_count": null,
   "metadata": {},
   "outputs": [
    {
     "output_type": "display_data",
     "metadata": {},
     "data": {}
    }
   ],
   "source": [
    "pct_df <- flight_exposure |>\n",
    "  transmute(\n",
    "    country = country_name,\n",
    "    dec     = total_inbound_flights_dec19,\n",
    "    mar     = total_inbound_flights_mar20,\n",
    "    pct     = 100 * (mar - dec) / dec\n",
    "  ) |>\n",
    "  filter(dec >= 5) |>\n",
    "  arrange(pct) |>\n",
    "  mutate(country = fct_reorder(country, pct))\n",
    "\n",
    "p_collapse <- ggplot(\n",
    "  pct_df,\n",
    "  aes(x = pct, y = country, fill = pct > 0)\n",
    ") +\n",
    "  geom_col(width = .72, show.legend = FALSE) +\n",
    "  scale_fill_manual(values = c(`TRUE` = \"#56B4E9\", `FALSE` = \"#E69F00\")) +\n",
    "  scale_x_continuous(\n",
    "    limits = c(-105, 5), breaks = seq(-100, 0, 25),\n",
    "    labels = \\(x) paste0(x, \"%\")\n",
    "  ) +\n",
    "  labs(\n",
    "    title = \"March collapse in direct CN/HK → EUROCONTROL flights\",\n",
    "    subtitle = \"Countries with ≥ 5 flights in Dec 2019\",\n",
    "    x = \"% change  (Mar 2020 vs Dec 2019)\", y = NULL\n",
    "  ) +\n",
    "  theme_minimal(base_size = 11)\n",
    "\n",
    "p_collapse\n"
   ],
   "id": "b503f19b-818b-4494-9f2d-cf0fab2ca2b3"
  },
  {
   "cell_type": "markdown",
   "metadata": {},
   "source": [
    "-   **Near-universal contraction.** By late March 2020, every EUROCONTROL member with ≥ 5 direct CN/HK flights in December had cut at least half of them; **15 of 19 slashed \\> 90 %** (Figure @pct_change_filtered).\n",
    "-   **Import shut-off confirmed externally.** Independent industry data show that by **December 2020 China–Europe long-haul capacity was ≈ 7 % of 2019, while China’s domestic network had already rebounded to ≈ 93 %** of pre-crisis levels \\[@warnocksmith2021, Fig 6-7\\]. This echoes the post-April collapse in our combined-flights exposure index and illustrates how effectively Europe was sealed off from fresh seeding risk.\n",
    "-   **Policy timing.** The cliff-edge aligns with two synchronous border measures: (i) the EU/Schengen external-border stop of **17 March 2020** (@EU2020) and (ii) China’s **“Five-One” rule of 26 March 2020**, limiting each airline to one weekly CN–EU passenger rotation (@CAAC2020).\n",
    "-   **Subsidies couldn’t break the wall.** Even Beijing’s cash incentive of **≈ US\\$ 0.003–0.008 per ASK** for international sectors failed to coax carriers back onto Europe routes \\[@warnocksmith2021\\]. Fiscal sweeteners are powerless when cross-border health rules and quarantine mandates crush demand.\n",
    "-   **Hubs vs medium markets.** Major transfer states—UK, Germany, Netherlands—still operated a few hundred flights after a 50–70 % cut, whereas medium markets such as Italy, Austria and the Nordics dropped to single digits (or zero). Absolute residual volume, not percentage change, drives any continuing exposure.\n",
    "-   **Interpretation.** Percentage change captures the policy shock; the *Δ flights* column shows where residual seeding potential persisted. Down-stream mortality correlations therefore need to weight absolute exposure—and discount cargo-heavy hubs—when assessing import pressure.\n",
    "\n",
    "Note: ASK means airlines were paid roughly three-quarters of a cent for every seat-kilometre they kept in the China-Europe market—regardless of whether those seats were filled.\n",
    "\n",
    "## Full numeric table (all ≥ 5-flight countries)"
   ],
   "id": "a4235b09-d6b9-40ee-9297-5b6822c67b1b"
  },
  {
   "cell_type": "code",
   "execution_count": null,
   "metadata": {},
   "outputs": [
    {
     "output_type": "display_data",
     "metadata": {},
     "data": {
      "text/markdown": [
       "  Country             Dec 2019   Mar 2020   \\% change   Δ flights\n",
       "  ----------------- ---------- ---------- ----------- -----------\n",
       "  Georgia                   14          0      -100 %         -14\n",
       "  Luxembourg                 8          0      -100 %          -8\n",
       "  Italy                    257          9       -96 %        -248\n",
       "  Hungary                   27          1       -96 %         -26\n",
       "  Poland                    28          2       -93 %         -26\n",
       "  Denmark                   77          6       -92 %         -71\n",
       "  Türkiye                  192         19       -90 %        -173\n",
       "  Austria                   69          7       -90 %         -62\n",
       "  Finland                  175         22       -87 %        -153\n",
       "  Sweden                    36          5       -86 %         -31\n",
       "  France                   396         74       -81 %        -322\n",
       "  Greece                    14          3       -79 %         -11\n",
       "  Czech Republic            44         10       -77 %         -34\n",
       "  Spain                    126         30       -76 %         -96\n",
       "  Switzerland              124         33       -73 %         -91\n",
       "  Ukraine                    6          2       -67 %          -4\n",
       "  United Kingdom           693        239       -66 %        -454\n",
       "  Portugal                  11          4       -64 %          -7\n",
       "  Germany                  691        353       -49 %        -338\n",
       "  The Netherlands          381        196       -49 %        -185\n",
       "  Belgium                  151        120       -21 %         -31\n",
       "\n",
       "  : Direct scheduled passenger flights from China and Hong Kong to\n",
       "  EUROCONTROL countries by destination, Dec 2019 vs. Mar 2020, for\n",
       "  states with at least five December flights. Table shows absolute and\n",
       "  percentage changes; note that residual flight volumes varied widely\n",
       "  despite near-universal contraction.\n"
      ]
     }
    }
   ],
   "source": [
    "collapse_tbl <- pct_df |>\n",
    "  mutate(\n",
    "    `Dec 2019` = scales::comma(dec),\n",
    "    `Mar 2020` = scales::comma(mar),\n",
    "    `% change` = sprintf(\"%+.0f %%\", pct),\n",
    "    `Δ flights` = scales::comma(mar - dec)\n",
    "  ) |>\n",
    "  select(Country = country, `Dec 2019`, `Mar 2020`, `% change`, `Δ flights`)\n",
    "\n",
    "knitr::kable(\n",
    "  collapse_tbl,\n",
    "  caption = \"Direct scheduled passenger flights from China and Hong Kong to EUROCONTROL countries by destination, Dec 2019 vs. Mar 2020, for states with at least five December flights. Table shows absolute and percentage changes; note that residual flight volumes varied widely despite near-universal contraction.\",\n",
    "  align = c(\"l\", \"r\", \"r\", \"r\", \"r\")\n",
    ")\n"
   ],
   "id": "9e0f216d-02aa-4a70-903b-7bf34469c51e"
  },
  {
   "cell_type": "markdown",
   "metadata": {},
   "source": [
    "-   **Every country contracted sharply.** All 19 EUROCONTROL states with ≥ 5 December flights cut inbound CN/HK service by ≥ 50 % by March 2020; 15 of them slashed **\\> 90 %**.\n",
    "-   **Absolute exposure still diverged.** Germany, the UK and the Netherlands each retained **200 – 350 flights** despite large percentage drops, whereas Italy, Austria and the Nordics fell to **single-digit counts** (see “Δ flights” column). Epidemiologically, residual *volume* matters more than the percentage.\n",
    "-   **Read % with caution.** Extreme figures at tiny bases—e.g. Luxembourg –100 % (8→0), Georgia –100 % (14→0)—signal “service discontinued”, not a large change in risk.\n",
    "\n",
    "## Top-10 drops and increases table"
   ],
   "id": "059eee66-bc60-4131-856e-13f954ed84ee"
  },
  {
   "cell_type": "code",
   "execution_count": null,
   "metadata": {},
   "outputs": [
    {
     "output_type": "display_data",
     "metadata": {},
     "data": {
      "text/markdown": [
       "  --------------------------------------------------------------------------\n",
       "  direction       Rank Country       Dec 2019  Mar 2020 \\% change  Δ flights\n",
       "  ------------- ------ ------------ --------- --------- --------- ----------\n",
       "  Largest drop       1 Georgia             14         0    -100 %        -14\n",
       "\n",
       "  Largest drop       2 Luxembourg           8         0    -100 %         -8\n",
       "\n",
       "  Largest drop       3 Italy              257         9     -96 %       -248\n",
       "\n",
       "  Largest drop       4 Hungary             27         1     -96 %        -26\n",
       "\n",
       "  Largest drop       5 Poland              28         2     -93 %        -26\n",
       "\n",
       "  Largest drop       6 Denmark             77         6     -92 %        -71\n",
       "\n",
       "  Largest drop       7 Türkiye            192        19     -90 %       -173\n",
       "\n",
       "  Largest drop       8 Austria             69         7     -90 %        -62\n",
       "\n",
       "  Largest drop       9 Finland            175        22     -87 %       -153\n",
       "\n",
       "  Largest drop      10 Sweden              36         5     -86 %        -31\n",
       "  --------------------------------------------------------------------------\n",
       "\n",
       "  : Largest proportional drops and increases in direct CN/HK →\n",
       "  EUROCONTROL flights, Mar 2020 vs. Dec 2019, by country (≥ 5 Dec\n",
       "  flights). Note: Some 'increases' are due to low baseline volumes.\n"
      ]
     }
    }
   ],
   "source": [
    "top_tbl <- pct_df |>\n",
    "  mutate(\n",
    "    direction = if_else(pct < 0, \"Largest drop\", \"Largest increase\"),\n",
    "    `Dec 2019` = dec,\n",
    "    `Mar 2020` = mar,\n",
    "    `% change` = sprintf(\"%+.0f %%\", pct),\n",
    "    `Δ flights` = mar - dec\n",
    "  ) |>\n",
    "  arrange(direction, pct) |>\n",
    "  group_by(direction) |>\n",
    "  slice_head(n = 10) |>\n",
    "  mutate(Rank = row_number()) |>\n",
    "  ungroup() |>\n",
    "  select(direction, Rank,\n",
    "    Country = country,\n",
    "    `Dec 2019`, `Mar 2020`, `% change`, `Δ flights`\n",
    "  )\n",
    "knitr::kable(\n",
    "  top_tbl,\n",
    "  caption = \"Largest proportional drops and increases in direct CN/HK → EUROCONTROL flights, Mar 2020 vs. Dec 2019, by country (≥ 5 Dec flights). Note: Some 'increases' are due to low baseline volumes.\",\n",
    "  align = c(\"l\", \"r\", \"l\", \"r\", \"r\", \"r\", \"r\"),\n",
    "  format.args = list(big.mark = \",\")\n",
    ")\n"
   ],
   "id": "505c4a05-86c5-4ae2-92a9-02444c387c84"
  },
  {
   "cell_type": "markdown",
   "metadata": {},
   "source": [
    "-   **Largest drops**: Hub–and-spoke carriers in Italy, Türkiye, Finland and Denmark virtually shut direct CN/HK traffic (–86 % to –96 %).\n",
    "-   **Largest “increases”** are statistical artefacts. Latvia (+400 %) and Lithuania (+200 %) rose from *one* charter to 4–5 rotations—epidemiologically negligible.\n",
    "-   **Hubs absorb the floor effect.** The UK, Germany and the Netherlands appear under “increases” because they still ran hundreds of flights; their percentage fall was “only” –50 % to –66 %, but the absolute cut was 180 – 450 flights.\n",
    "\n",
    "> **Take-away.** Percentage change captures the **policy shock**; the “Δ flights” column captures the **residual seeding potential**. Subsequent excess-mortality analysis should therefore weight *absolute* exposure, not just percentage cuts.\n",
    "\n",
    "# Optional / Appendix\n",
    "\n",
    "## Origin-airport bar (top 25)"
   ],
   "id": "d48762b3-9581-49e4-904e-5c654525cdf4"
  },
  {
   "cell_type": "code",
   "execution_count": null,
   "metadata": {},
   "outputs": [
    {
     "output_type": "display_data",
     "metadata": {},
     "data": {}
    }
   ],
   "source": [
    "origin_df <- flights_filtered |>\n",
    "  count(month, ADEP, name = \"flights\") |>\n",
    "  left_join(airports, by = c(\"ADEP\" = \"icao_code\")) |>\n",
    "  group_by(ADEP) |>\n",
    "  mutate(total = sum(flights)) |>\n",
    "  ungroup() |>\n",
    "  arrange(desc(total)) |>\n",
    "  slice_head(n = 25) |>\n",
    "  mutate(\n",
    "    short_name = str_remove(name, \" (International )?Airport$\"),\n",
    "    month      = recode(month, dec19 = \"Dec 2019\", mar20 = \"Mar 2020\"),\n",
    "    short_name = fct_reorder(short_name, total)\n",
    "  )\n",
    "\n",
    "pal_window <- c(\n",
    "  \"Dec 2019\" = \"#E69F00\",\n",
    "  \"Mar 2020\" = \"#56B4E9\"\n",
    ")\n",
    "\n",
    "p_orig <- ggplot(\n",
    "  origin_df,\n",
    "  aes(short_name, flights, fill = month)\n",
    ") +\n",
    "  geom_col(position = \"stack\", width = .75) +\n",
    "  coord_flip() +\n",
    "  scale_y_continuous(labels = scales::comma) +\n",
    "  scale_fill_manual(values = pal_window, name = NULL) +\n",
    "  labs(\n",
    "    title = \"Inbound flight counts by CN/HK origin airport\",\n",
    "    subtitle = \"Top 25 origins  December 2019 (orange) vs March 2020 (blue)\",\n",
    "    x = NULL, y = \"Number of direct passenger flights\"\n",
    "  ) +\n",
    "  theme_minimal(base_size = 10) +\n",
    "  theme(\n",
    "    legend.position      = \"top\",\n",
    "    legend.justification = \"left\",\n",
    "    axis.text.y          = element_text(size = 8)\n",
    "  )\n",
    "\n",
    "p_orig\n"
   ],
   "id": "e6b5ffb6-10ee-4bad-b628-276ffa4676a0"
  },
  {
   "cell_type": "markdown",
   "metadata": {},
   "source": [
    "The next section quantifies how these residual volumes relate to first-wave excess mortality."
   ],
   "id": "4430d4c1-fea4-4ec2-92c2-e503ae3e07bb"
  }
 ],
 "nbformat": 4,
 "nbformat_minor": 5,
 "metadata": {}
}
